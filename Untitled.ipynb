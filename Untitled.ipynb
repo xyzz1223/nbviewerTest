{
 "cells": [
  {
   "cell_type": "code",
   "execution_count": 2,
   "id": "2f15e977-5954-4fad-80b3-558dc3d05e93",
   "metadata": {},
   "outputs": [
    {
     "data": {
      "text/plain": [
       "True"
      ]
     },
     "execution_count": 2,
     "metadata": {},
     "output_type": "execute_result"
    }
   ],
   "source": [
    "import cv2\n",
    "\n",
    "# 读取原始图像\n",
    "image = cv2.imread('1.png')\n",
    "\n",
    "# 使用插值方法放大图像\n",
    "# 常用的插值方法：INTER_NEAREST（最近邻插值），INTER_LINEAR（线性插值），INTER_CUBIC（双三次插值），INTER_LANCZOS4（兰索思插值）\n",
    "resized_image = cv2.resize(image, (1000, 1000), interpolation=cv2.INTER_CUBIC)\n",
    "\n",
    "# 保存处理后的图像\n",
    "cv2.imwrite('1_1.png', resized_image)"
   ]
  },
  {
   "cell_type": "code",
   "execution_count": 6,
   "id": "76105be9-e5a6-4b60-8b00-2b943ec6fa45",
   "metadata": {},
   "outputs": [
    {
     "ename": "ImportError",
     "evalue": "cannot import name 'dnn_superres' from 'cv2' (C:\\Users\\Administrator\\AppData\\Local\\Programs\\Python\\Python310\\lib\\site-packages\\cv2\\__init__.py)",
     "output_type": "error",
     "traceback": [
      "\u001b[1;31m---------------------------------------------------------------------------\u001b[0m",
      "\u001b[1;31mImportError\u001b[0m                               Traceback (most recent call last)",
      "Cell \u001b[1;32mIn[6], line 3\u001b[0m\n\u001b[0;32m      1\u001b[0m \u001b[38;5;28;01mimport\u001b[39;00m \u001b[38;5;21;01mcv2\u001b[39;00m\n\u001b[0;32m      2\u001b[0m \u001b[38;5;28;01mimport\u001b[39;00m \u001b[38;5;21;01mnumpy\u001b[39;00m \u001b[38;5;28;01mas\u001b[39;00m \u001b[38;5;21;01mnp\u001b[39;00m\n\u001b[1;32m----> 3\u001b[0m \u001b[38;5;28;01mfrom\u001b[39;00m \u001b[38;5;21;01mcv2\u001b[39;00m \u001b[38;5;28;01mimport\u001b[39;00m dnn_superres\n\u001b[0;32m      5\u001b[0m \u001b[38;5;66;03m# 初始化超分辨率对象\u001b[39;00m\n\u001b[0;32m      6\u001b[0m sr \u001b[38;5;241m=\u001b[39m cv2\u001b[38;5;241m.\u001b[39mdnn_superres\u001b[38;5;241m.\u001b[39mDnnSuperResImpl_create()\n",
      "\u001b[1;31mImportError\u001b[0m: cannot import name 'dnn_superres' from 'cv2' (C:\\Users\\Administrator\\AppData\\Local\\Programs\\Python\\Python310\\lib\\site-packages\\cv2\\__init__.py)"
     ]
    }
   ],
   "source": [
    "import cv2\n",
    "import numpy as np\n",
    "from cv2 import dnn_superres\n",
    "\n",
    "# 初始化超分辨率对象\n",
    "sr = cv2.dnn_superres.DnnSuperResImpl_create()\n",
    "\n",
    "# Load the model (e.g., EDSR_x4.pb)\n",
    "model_path = \"ESPCN_x4.pb\"\n",
    "sr.readModel(model_path)\n",
    "sr.setModel(\"espcn\", 4)  # 设置模型类型和放大倍数\n",
    "\n",
    "# 加载输入图像\n",
    "image = cv2.imread('1.png')\n",
    "\n",
    "# 放大图像\n",
    "result = sr.upsample(image)\n",
    "\n",
    "# 保存结果\n",
    "cv2.imwrite('1_1.png', result)"
   ]
  },
  {
   "cell_type": "code",
   "execution_count": 4,
   "id": "cdb3c49c-737f-4bca-865e-6ffce6abe5cd",
   "metadata": {},
   "outputs": [
    {
     "name": "stdout",
     "output_type": "stream",
     "text": [
      "cv2.dnn_superres is not available.\n"
     ]
    }
   ],
   "source": [
    "if hasattr(cv2, 'dnn_superres'):\n",
    "    print(\"cv2.dnn_superres is available.\")\n",
    "else:\n",
    "    print(\"cv2.dnn_superres is not available.\")"
   ]
  },
  {
   "cell_type": "code",
   "execution_count": 7,
   "id": "aa7a7092-defe-4ff5-96eb-ca86caba2890",
   "metadata": {},
   "outputs": [
    {
     "ename": "KeyboardInterrupt",
     "evalue": "",
     "output_type": "error",
     "traceback": [
      "\u001b[1;31m---------------------------------------------------------------------------\u001b[0m",
      "\u001b[1;31mKeyboardInterrupt\u001b[0m                         Traceback (most recent call last)",
      "Cell \u001b[1;32mIn[7], line 5\u001b[0m\n\u001b[0;32m      2\u001b[0m img \u001b[38;5;241m=\u001b[39m cv2\u001b[38;5;241m.\u001b[39mimread(\u001b[38;5;124m'\u001b[39m\u001b[38;5;124m1.png\u001b[39m\u001b[38;5;124m'\u001b[39m)\n\u001b[0;32m      4\u001b[0m \u001b[38;5;66;03m# 去噪\u001b[39;00m\n\u001b[1;32m----> 5\u001b[0m denoised \u001b[38;5;241m=\u001b[39m \u001b[43mcv2\u001b[49m\u001b[38;5;241;43m.\u001b[39;49m\u001b[43mfastNlMeansDenoisingColored\u001b[49m\u001b[43m(\u001b[49m\u001b[43mimg\u001b[49m\u001b[43m,\u001b[49m\u001b[43m \u001b[49m\u001b[38;5;28;43;01mNone\u001b[39;49;00m\u001b[43m,\u001b[49m\u001b[43m \u001b[49m\u001b[43mh\u001b[49m\u001b[38;5;241;43m=\u001b[39;49m\u001b[38;5;241;43m10\u001b[39;49m\u001b[43m,\u001b[49m\u001b[43m \u001b[49m\u001b[43mhColor\u001b[49m\u001b[38;5;241;43m=\u001b[39;49m\u001b[38;5;241;43m10\u001b[39;49m\u001b[43m)\u001b[49m\n\u001b[0;32m      7\u001b[0m \u001b[38;5;66;03m# CLAHE增强对比度\u001b[39;00m\n\u001b[0;32m      8\u001b[0m img_yuv \u001b[38;5;241m=\u001b[39m cv2\u001b[38;5;241m.\u001b[39mcvtColor(denoised, cv2\u001b[38;5;241m.\u001b[39mCOLOR_BGR2YUV)\n",
      "\u001b[1;31mKeyboardInterrupt\u001b[0m: "
     ]
    }
   ],
   "source": [
    "# 步骤示例：去噪 -> CLAHE -> 锐化\n",
    "img = cv2.imread('1.png')\n",
    "\n",
    "# 去噪\n",
    "denoised = cv2.fastNlMeansDenoisingColored(img, None, h=10, hColor=10)\n",
    "\n",
    "# CLAHE增强对比度\n",
    "img_yuv = cv2.cvtColor(denoised, cv2.COLOR_BGR2YUV)\n",
    "clahe = cv2.createCLAHE(clipLimit=2.0, tileGridSize=(8,8))\n",
    "img_yuv[:,:,0] = clahe.apply(img_yuv[:,:,0])\n",
    "enhanced = cv2.cvtColor(img_yuv, cv2.COLOR_YUV2BGR)\n",
    "\n",
    "# 锐化\n",
    "sharp_kernel = np.array([[0, -1, 0],\n",
    "                         [-1, 5, -1],\n",
    "                         [0, -1, 0]])\n",
    "final = cv2.filter2D(enhanced, -1, sharp_kernel)\n",
    "\n",
    "cv2.imwrite('enhanced_image.png', final)\n"
   ]
  },
  {
   "cell_type": "code",
   "execution_count": null,
   "id": "b877ecd1-f09b-4cfb-99b3-63ec646c4de3",
   "metadata": {},
   "outputs": [],
   "source": []
  },
  {
   "cell_type": "code",
   "execution_count": 15,
   "id": "50dc608d-8fe7-4a5e-98e1-aee267e63c59",
   "metadata": {},
   "outputs": [],
   "source": [
    "import cv2\n",
    "import numpy as np\n",
    "from PIL import Image\n",
    "\n",
    "def enhance_image(input_path, output_path, target_size=(1200, 1200), dpi=350):\n",
    "    # --- 步骤1: 读取原始图像 ---\n",
    "    img = cv2.imread(input_path)\n",
    "    \n",
    "    # --- 步骤2: 调整分辨率至目标尺寸（保持宽高比） ---\n",
    "    h, w = img.shape[:2]\n",
    "    \n",
    "    # 计算缩放比例，避免拉伸变形\n",
    "    scale = max(target_size[0]/w, target_size[1]/h)\n",
    "    new_size = (int(w*scale), int(h*scale))\n",
    "    \n",
    "    # 使用双三次插值保持质量\n",
    "    resized = cv2.resize(img, new_size, interpolation=cv2.INTER_CUBIC)\n",
    "    \n",
    "    # --- 步骤3: 图像增强处理 ---\n",
    "    # 去噪\n",
    "    denoised = cv2.fastNlMeansDenoisingColored(resized, None, h=7, hColor=7)\n",
    "    \n",
    "    # CLAHE增强对比度\n",
    "    img_yuv = cv2.cvtColor(denoised, cv2.COLOR_BGR2YUV)\n",
    "    clahe = cv2.createCLAHE(clipLimit=2.0, tileGridSize=(8,8))\n",
    "    img_yuv[:,:,0] = clahe.apply(img_yuv[:,:,0])\n",
    "    enhanced = cv2.cvtColor(img_yuv, cv2.COLOR_YUV2BGR)\n",
    "    \n",
    "    # 锐化\n",
    "    kernel = np.array([[0, -1, 0],\n",
    "                       [-1, 5, -1],\n",
    "                       [0, -1, 0]])\n",
    "    sharpened = cv2.filter2D(enhanced, -1, kernel)\n",
    "    \n",
    "    # --- 步骤4: 保存高DPI图像 ---\n",
    "    # 转换颜色空间（OpenCV使用BGR，PIL使用RGB）\n",
    "    sharpened_rgb = cv2.cvtColor(sharpened, cv2.COLOR_BGR2RGB)\n",
    "    pil_img = Image.fromarray(sharpened_rgb)\n",
    "    \n",
    "    # 设置DPI元数据（关键步骤）\n",
    "    pil_img.save(output_path, dpi=(dpi, dpi), format='PNG', quality=100)\n",
    "\n",
    "# 使用示例\n",
    "enhance_image(\n",
    "    input_path=\"1.png\",\n",
    "    output_path=\"1_1.png\",\n",
    "    target_size=(2000, 2000),  # 最小目标尺寸\n",
    "    dpi=500\n",
    ")\n"
   ]
  },
  {
   "cell_type": "code",
   "execution_count": null,
   "id": "c18937cd-8ffe-4405-a2e6-a6dee9def13d",
   "metadata": {},
   "outputs": [],
   "source": []
  }
 ],
 "metadata": {
  "kernelspec": {
   "display_name": "Python 3 (ipykernel)",
   "language": "python",
   "name": "python3"
  },
  "language_info": {
   "codemirror_mode": {
    "name": "ipython",
    "version": 3
   },
   "file_extension": ".py",
   "mimetype": "text/x-python",
   "name": "python",
   "nbconvert_exporter": "python",
   "pygments_lexer": "ipython3",
   "version": "3.10.11"
  }
 },
 "nbformat": 4,
 "nbformat_minor": 5
}
